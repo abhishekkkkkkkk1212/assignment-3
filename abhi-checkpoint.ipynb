{
 "cells": [
  {
   "cell_type": "markdown",
   "id": "4fad1c4b-c517-4ce1-88f2-43eb9292b749",
   "metadata": {},
   "source": [
    "# Q.1 create a offer letter for a candidate\n",
    "# take input from user for each variable\n"
   ]
  },
  {
   "cell_type": "code",
   "execution_count": 12,
   "id": "ac80cbf2-29b3-4f99-be96-fb4c7af7277a",
   "metadata": {},
   "outputs": [
    {
     "name": "stdin",
     "output_type": "stream",
     "text": [
      "ENTER CANDIDATE NAME : rohit kumar\n",
      "ENTER ADDRESS : NOIDA SECTOR 16 UP\n",
      "ENTER CANDIDATE SUBJECT : PYTHON EMPLOYMENT\n",
      "candidate_position PEMPLOYMENT OF PYTHON\n",
      "DATE OF JOINING : 01-01-2021\n",
      "TOTAL COMPENSATION PACKAGE : 23784874783T7\n",
      "ENTER EMAIL.ADDRESS : RKT6543@gmail.com\n",
      "ENTER YOUR HR NAME : SUNIL KUMAR\n"
     ]
    },
    {
     "name": "stdout",
     "output_type": "stream",
     "text": [
      "subject:We are delighted to extend this formal offer of employment to you for the position of PEMPLOYMENT OF PYTHON at our organization.\n",
      "Based on your qualifications and the skills you demonstrated during the recruitment process, we are confident that you will be a valuable addition to our team.\n",
      "As discussed, your 01-01-2021 .\n",
      "Your total 23784874783T7 will , which includes all salary components as per the company’s policy. Further details regarding \n",
      "your compensation will be provided in your employment contract.\n",
      "We expect you to bring your best efforts to help the company achieve its goals, and we are committed to supporting your professional \n",
      "growth during your time with us.Please confirm your acceptance of this offer by sending an RKT6543@gmail.com to  at your earliest convenience .\n",
      "Should you have any queries regarding this offer, feel free to reach out to us.\n",
      "We look forward to having you onboard and are excited about the great things we can accomplish together\n",
      "Sincerely\n",
      "sunil sir\n",
      "HR MANAGER\n"
     ]
    }
   ],
   "source": [
    "candidate_name = input(\"ENTER CANDIDATE NAME :\")\n",
    "address = input(\"ENTER ADDRESS :\")\n",
    "subject = input(\"ENTER CANDIDATE SUBJECT :\")\n",
    "position = input(\"candidate_position\")\n",
    "expected_date_of_joining = input(\"DATE OF JOINING :\")\n",
    "compensation_package = input(\"TOTAL COMPENSATION PACKAGE :\")\n",
    "email_address = input(\"ENTER EMAIL.ADDRESS :\")\n",
    "hr_name = input(\"ENTER YOUR HR NAME :\")\n",
    "\n",
    "\n",
    "\n",
    "print(f\"subject:We are delighted to extend this formal offer of employment to you for the position of {position} at our organization.\") \n",
    "print(f\"Based on your qualifications and the skills you demonstrated during the recruitment process, we are confident that you will be a valuable addition to our team.\")\n",
    "\n",
    "print(f\"\"\"As discussed, your {expected_date_of_joining} .\n",
    "Your total compensation will be {compensation_package}  , which includes all salary components as per the company’s policy. Further details regarding \n",
    "your compensation will be provided in your employment contract.\"\"\")\n",
    "\n",
    "print(f\"\"\"We expect you to bring your best efforts to help the company achieve its goals, and we are committed to supporting your professional \n",
    "growth during your time with us.Please confirm your acceptance of this offer by sending an {email_address} to  at your earliest convenience .\n",
    "Should you have any queries regarding this offer, feel free to reach out to us.\"\"\")\n",
    "\n",
    "print(\"We look forward to having you onboard and are excited about the great things we can accomplish together\")\n",
    "\n",
    "print(\"Sincerely\")\n",
    "print(\"sunil sir\")\n",
    "print(\"HR MANAGER\")\n"
   ]
  },
  {
   "cell_type": "code",
   "execution_count": null,
   "id": "2a49fb1f-be4a-4d3b-a909-aee0e7b7e4cc",
   "metadata": {},
   "outputs": [],
   "source": []
  }
 ],
 "metadata": {
  "kernelspec": {
   "display_name": "Python [conda env:base] *",
   "language": "python",
   "name": "conda-base-py"
  },
  "language_info": {
   "codemirror_mode": {
    "name": "ipython",
    "version": 3
   },
   "file_extension": ".py",
   "mimetype": "text/x-python",
   "name": "python",
   "nbconvert_exporter": "python",
   "pygments_lexer": "ipython3",
   "version": "3.13.5"
  }
 },
 "nbformat": 4,
 "nbformat_minor": 5
}
